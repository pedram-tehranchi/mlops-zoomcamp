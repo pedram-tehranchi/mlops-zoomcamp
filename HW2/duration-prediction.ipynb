{
 "cells": [
  {
   "cell_type": "code",
   "execution_count": 1,
   "id": "b2bd82d7",
   "metadata": {
    "ExecuteTime": {
     "end_time": "2024-05-29T16:39:22.793788Z",
     "start_time": "2024-05-29T16:39:22.665999Z"
    }
   },
   "outputs": [
    {
     "name": "stdout",
     "output_type": "stream",
     "text": [
      "Python 3.11.5\r\n"
     ]
    }
   ],
   "source": [
    "!python -V"
   ]
  },
  {
   "cell_type": "code",
   "execution_count": 1,
   "id": "41062d8a",
   "metadata": {
    "ExecuteTime": {
     "end_time": "2024-05-29T16:50:45.168668Z",
     "start_time": "2024-05-29T16:50:45.164687Z"
    }
   },
   "outputs": [],
   "source": [
    "import pandas as pd"
   ]
  },
  {
   "cell_type": "code",
   "execution_count": 2,
   "id": "c984c564",
   "metadata": {
    "ExecuteTime": {
     "end_time": "2024-05-29T16:50:48.829448Z",
     "start_time": "2024-05-29T16:50:48.827648Z"
    }
   },
   "outputs": [],
   "source": [
    "import pickle"
   ]
  },
  {
   "cell_type": "code",
   "execution_count": 3,
   "id": "4add538c",
   "metadata": {
    "ExecuteTime": {
     "end_time": "2024-05-29T16:50:50.079089Z",
     "start_time": "2024-05-29T16:50:50.076069Z"
    }
   },
   "outputs": [],
   "source": [
    "import seaborn as sns\n",
    "import matplotlib.pyplot as plt"
   ]
  },
  {
   "cell_type": "code",
   "execution_count": 6,
   "id": "8b135c2b",
   "metadata": {
    "ExecuteTime": {
     "end_time": "2024-05-29T16:52:14.659931Z",
     "start_time": "2024-05-29T16:52:14.650155Z"
    }
   },
   "outputs": [],
   "source": [
    "from sklearn.feature_extraction import DictVectorizer\n",
    "from sklearn.linear_model import LinearRegression\n",
    "from sklearn.linear_model import Lasso\n",
    "from sklearn.linear_model import Ridge\n",
    "\n",
    "from sklearn.metrics import mean_squared_error"
   ]
  },
  {
   "cell_type": "code",
   "outputs": [
    {
     "name": "stderr",
     "output_type": "stream",
     "text": [
      "INFO  [alembic.runtime.migration] Context impl SQLiteImpl.\n",
      "INFO  [alembic.runtime.migration] Will assume non-transactional DDL.\n",
      "2024/05/29 20:22:15 INFO mlflow.tracking.fluent: Experiment with name 'hw2_experiment' does not exist. Creating a new experiment.\n"
     ]
    },
    {
     "data": {
      "text/plain": "<Experiment: artifact_location='/Users/pedram/Learning/MLops/ZoomCamp/HW2/mlruns/1', creation_time=1717001535084, experiment_id='1', last_update_time=1717001535084, lifecycle_stage='active', name='hw2_experiment', tags={}>"
     },
     "execution_count": 7,
     "metadata": {},
     "output_type": "execute_result"
    }
   ],
   "source": [
    "import mlflow\n",
    "\n",
    "mlflow.set_tracking_uri(\"sqlite:///mlflow.db\")\n",
    "mlflow.set_experiment(\"hw2_experiment\")"
   ],
   "metadata": {
    "collapsed": false,
    "ExecuteTime": {
     "end_time": "2024-05-29T16:52:15.089510Z",
     "start_time": "2024-05-29T16:52:15.048968Z"
    }
   },
   "id": "21e46f816b00412f",
   "execution_count": 7
  },
  {
   "cell_type": "code",
   "execution_count": 8,
   "id": "8e013caf",
   "metadata": {
    "ExecuteTime": {
     "end_time": "2024-05-29T16:52:54.201705Z",
     "start_time": "2024-05-29T16:52:53.941755Z"
    }
   },
   "outputs": [],
   "source": [
    "df = pd.read_parquet('../data/green_tripdata_2023-01.parquet')\n",
    "\n",
    "df['duration'] = df.lpep_dropoff_datetime - df.lpep_pickup_datetime\n",
    "df.duration = df.duration.apply(lambda td: td.total_seconds() / 60)\n",
    "\n",
    "df = df[(df.duration >= 1) & (df.duration <= 60)]\n",
    "\n",
    "categorical = ['PULocationID', 'DOLocationID']\n",
    "numerical = ['trip_distance']\n",
    "\n",
    "df[categorical] = df[categorical].astype(str)"
   ]
  },
  {
   "cell_type": "code",
   "execution_count": 9,
   "id": "116ff0cc",
   "metadata": {
    "ExecuteTime": {
     "end_time": "2024-05-29T16:53:10.937225Z",
     "start_time": "2024-05-29T16:53:10.787944Z"
    }
   },
   "outputs": [
    {
     "name": "stderr",
     "output_type": "stream",
     "text": [
      "/Users/pedram/Learning/MLops/ZoomCamp/venv/lib/python3.11/site-packages/sklearn/metrics/_regression.py:483: FutureWarning: 'squared' is deprecated in version 1.4 and will be removed in 1.6. To calculate the root mean squared error, use the function'root_mean_squared_error'.\n",
      "  warnings.warn(\n"
     ]
    },
    {
     "data": {
      "text/plain": "7.06035154169233"
     },
     "execution_count": 9,
     "metadata": {},
     "output_type": "execute_result"
    }
   ],
   "source": [
    "train_dicts = df[categorical + numerical].to_dict(orient='records')\n",
    "\n",
    "dv = DictVectorizer()\n",
    "X_train = dv.fit_transform(train_dicts)\n",
    "\n",
    "target = 'duration'\n",
    "y_train = df[target].values\n",
    "\n",
    "lr = LinearRegression()\n",
    "lr.fit(X_train, y_train)\n",
    "\n",
    "y_pred = lr.predict(X_train)\n",
    "\n",
    "mean_squared_error(y_train, y_pred, squared=False)"
   ]
  },
  {
   "cell_type": "code",
   "execution_count": 10,
   "id": "b134c97b",
   "metadata": {
    "ExecuteTime": {
     "end_time": "2024-05-29T16:53:19.216220Z",
     "start_time": "2024-05-29T16:53:15.739786Z"
    }
   },
   "outputs": [
    {
     "name": "stderr",
     "output_type": "stream",
     "text": [
      "/var/folders/7m/gq8j__g550g1v9d9zk55b5200000gn/T/ipykernel_30898/437147669.py:1: UserWarning: \n",
      "\n",
      "`distplot` is a deprecated function and will be removed in seaborn v0.14.0.\n",
      "\n",
      "Please adapt your code to use either `displot` (a figure-level function with\n",
      "similar flexibility) or `histplot` (an axes-level function for histograms).\n",
      "\n",
      "For a guide to updating your code to use the new functions, please see\n",
      "https://gist.github.com/mwaskom/de44147ed2974457ad6372750bbe5751\n",
      "\n",
      "  sns.distplot(y_pred, label='prediction')\n",
      "/var/folders/7m/gq8j__g550g1v9d9zk55b5200000gn/T/ipykernel_30898/437147669.py:2: UserWarning: \n",
      "\n",
      "`distplot` is a deprecated function and will be removed in seaborn v0.14.0.\n",
      "\n",
      "Please adapt your code to use either `displot` (a figure-level function with\n",
      "similar flexibility) or `histplot` (an axes-level function for histograms).\n",
      "\n",
      "For a guide to updating your code to use the new functions, please see\n",
      "https://gist.github.com/mwaskom/de44147ed2974457ad6372750bbe5751\n",
      "\n",
      "  sns.distplot(y_train, label='actual')\n"
     ]
    },
    {
     "data": {
      "text/plain": "<matplotlib.legend.Legend at 0x28f1afbd0>"
     },
     "execution_count": 10,
     "metadata": {},
     "output_type": "execute_result"
    },
    {
     "data": {
      "text/plain": "<Figure size 640x480 with 1 Axes>",
      "image/png": "[encoded data removed]"
     },
     "metadata": {},
     "output_type": "display_data"
    }
   ],
   "source": [
    "sns.distplot(y_pred, label='prediction')\n",
    "sns.distplot(y_train, label='actual')\n",
    "\n",
    "plt.legend()"
   ]
  },
  {
   "cell_type": "code",
   "execution_count": 12,
   "id": "f9e6479e",
   "metadata": {
    "ExecuteTime": {
     "end_time": "2024-05-29T16:56:00.732902Z",
     "start_time": "2024-05-29T16:56:00.728690Z"
    }
   },
   "outputs": [],
   "source": [
    "def read_dataframe(filename):\n",
    "    if filename.endswith('.csv'):\n",
    "        df = pd.read_csv(filename)\n",
    "\n",
    "        df.lpep_dropoff_datetime = pd.to_datetime(df.lpep_dropoff_datetime)\n",
    "        df.lpep_pickup_datetime = pd.to_datetime(df.lpep_pickup_datetime)\n",
    "    elif filename.endswith('.parquet'):\n",
    "        df = pd.read_parquet(filename)\n",
    "\n",
    "    df['duration'] = df.lpep_dropoff_datetime - df.lpep_pickup_datetime\n",
    "    df.duration = df.duration.apply(lambda td: td.total_seconds() / 60)\n",
    "\n",
    "    df = df[(df.duration >= 1) & (df.duration <= 60)]\n",
    "\n",
    "    categorical = ['PULocationID', 'DOLocationID']\n",
    "    df[categorical] = df[categorical].astype(str)\n",
    "    \n",
    "    return df"
   ]
  },
  {
   "cell_type": "code",
   "execution_count": 13,
   "id": "8029eba0",
   "metadata": {
    "ExecuteTime": {
     "end_time": "2024-05-29T16:56:17.303897Z",
     "start_time": "2024-05-29T16:56:16.938684Z"
    }
   },
   "outputs": [],
   "source": [
    "df_train = read_dataframe('../data/green_tripdata_2023-01.parquet')\n",
    "df_val = read_dataframe('../data/green_tripdata_2023-02.parquet')"
   ]
  },
  {
   "cell_type": "code",
   "execution_count": 14,
   "id": "f6f2f0eb",
   "metadata": {
    "ExecuteTime": {
     "end_time": "2024-05-29T16:56:18.612740Z",
     "start_time": "2024-05-29T16:56:18.607806Z"
    }
   },
   "outputs": [
    {
     "data": {
      "text/plain": "(65946, 62574)"
     },
     "execution_count": 14,
     "metadata": {},
     "output_type": "execute_result"
    }
   ],
   "source": [
    "len(df_train), len(df_val)"
   ]
  },
  {
   "cell_type": "code",
   "execution_count": 15,
   "id": "951d51ef",
   "metadata": {
    "ExecuteTime": {
     "end_time": "2024-05-29T16:56:30.635378Z",
     "start_time": "2024-05-29T16:56:30.610557Z"
    }
   },
   "outputs": [],
   "source": [
    "df_train['PU_DO'] = df_train['PULocationID'] + '_' + df_train['DOLocationID']\n",
    "df_val['PU_DO'] = df_val['PULocationID'] + '_' + df_val['DOLocationID']"
   ]
  },
  {
   "cell_type": "code",
   "execution_count": 16,
   "id": "c5cbfc25",
   "metadata": {
    "ExecuteTime": {
     "end_time": "2024-05-29T16:56:32.055034Z",
     "start_time": "2024-05-29T16:56:31.890977Z"
    }
   },
   "outputs": [],
   "source": [
    "categorical = ['PU_DO'] #'PULocationID', 'DOLocationID']\n",
    "numerical = ['trip_distance']\n",
    "\n",
    "dv = DictVectorizer()\n",
    "\n",
    "train_dicts = df_train[categorical + numerical].to_dict(orient='records')\n",
    "X_train = dv.fit_transform(train_dicts)\n",
    "\n",
    "val_dicts = df_val[categorical + numerical].to_dict(orient='records')\n",
    "X_val = dv.transform(val_dicts)"
   ]
  },
  {
   "cell_type": "code",
   "execution_count": 17,
   "id": "1e9fb68b",
   "metadata": {
    "ExecuteTime": {
     "end_time": "2024-05-29T16:56:33.284463Z",
     "start_time": "2024-05-29T16:56:33.281282Z"
    }
   },
   "outputs": [],
   "source": [
    "target = 'duration'\n",
    "y_train = df_train[target].values\n",
    "y_val = df_val[target].values"
   ]
  },
  {
   "cell_type": "code",
   "execution_count": 18,
   "id": "429e2394",
   "metadata": {
    "ExecuteTime": {
     "end_time": "2024-05-29T16:56:33.921043Z",
     "start_time": "2024-05-29T16:56:33.869328Z"
    }
   },
   "outputs": [
    {
     "name": "stderr",
     "output_type": "stream",
     "text": [
      "/Users/pedram/Learning/MLops/ZoomCamp/venv/lib/python3.11/site-packages/sklearn/metrics/_regression.py:483: FutureWarning: 'squared' is deprecated in version 1.4 and will be removed in 1.6. To calculate the root mean squared error, use the function'root_mean_squared_error'.\n",
      "  warnings.warn(\n"
     ]
    },
    {
     "data": {
      "text/plain": "6.037547854084554"
     },
     "execution_count": 18,
     "metadata": {},
     "output_type": "execute_result"
    }
   ],
   "source": [
    "lr = LinearRegression()\n",
    "lr.fit(X_train, y_train)\n",
    "\n",
    "y_pred = lr.predict(X_val)\n",
    "\n",
    "mean_squared_error(y_val, y_pred, squared=False)"
   ]
  },
  {
   "cell_type": "code",
   "execution_count": 20,
   "id": "22bf6f8b",
   "metadata": {
    "ExecuteTime": {
     "end_time": "2024-05-29T16:58:04.476898Z",
     "start_time": "2024-05-29T16:58:04.468883Z"
    }
   },
   "outputs": [],
   "source": [
    "with open('models/lin_reg.bin', 'wb') as f_out:\n",
    "    pickle.dump((dv, lr), f_out)"
   ]
  },
  {
   "cell_type": "code",
   "execution_count": 23,
   "id": "a4999b94",
   "metadata": {
    "ExecuteTime": {
     "end_time": "2024-05-29T17:14:19.127722Z",
     "start_time": "2024-05-29T17:14:16.240467Z"
    }
   },
   "outputs": [
    {
     "name": "stderr",
     "output_type": "stream",
     "text": [
      "/Users/pedram/Learning/MLops/ZoomCamp/venv/lib/python3.11/site-packages/sklearn/metrics/_regression.py:483: FutureWarning: 'squared' is deprecated in version 1.4 and will be removed in 1.6. To calculate the root mean squared error, use the function'root_mean_squared_error'.\n",
      "  warnings.warn(\n"
     ]
    }
   ],
   "source": [
    "with mlflow.start_run():\n",
    "    mlflow.set_tag(\"developer\", \"pedram tehranchi \")\n",
    "    mlflow.log_param(\"train_data_path  \", \"../data/green_tripdata_2023-01.parquet\")\n",
    "    mlflow.log_param(\"validation_data_path  \", \"../data/green_tripdata_2023-01.parquet\")\n",
    "     \n",
    "    alpha = 0.01\n",
    "    mlflow.log_param(\"alpha\", alpha)\n",
    "    \n",
    "    lr = Lasso(0.01)\n",
    "    lr.fit(X_train, y_train)\n",
    "    \n",
    "    y_pred = lr.predict(X_val)\n",
    "    \n",
    "    mse = mean_squared_error(y_val, y_pred, squared=False)\n",
    "    mlflow.log_metric(\"mse\", mse )"
   ]
  },
  {
   "cell_type": "code",
   "execution_count": null,
   "id": "47b0eb9b",
   "metadata": {},
   "outputs": [],
   "source": [
    " "
   ]
  }
 ],
 "metadata": {
  "kernelspec": {
   "display_name": "Python 3 (ipykernel)",
   "language": "python",
   "name": "python3"
  },
  "language_info": {
   "codemirror_mode": {
    "name": "ipython",
    "version": 3
   },
   "file_extension": ".py",
   "mimetype": "text/x-python",
   "name": "python",
   "nbconvert_exporter": "python",
   "pygments_lexer": "ipython3",
   "version": "3.9.7"
  }
 },
 "nbformat": 4,
 "nbformat_minor": 5
}
