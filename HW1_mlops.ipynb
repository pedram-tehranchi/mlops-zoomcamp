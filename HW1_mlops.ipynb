{
 "cells": [
  {
   "cell_type": "code",
   "execution_count": 56,
   "id": "initial_id",
   "metadata": {
    "collapsed": true,
    "ExecuteTime": {
     "end_time": "2024-05-20T14:36:05.167718Z",
     "start_time": "2024-05-20T14:36:05.164645Z"
    }
   },
   "outputs": [],
   "source": [
    "import pandas as pd\n",
    "from sklearn.feature_extraction import DictVectorizer\n",
    "from sklearn.linear_model import LinearRegression\n",
    "from sklearn.metrics import mean_squared_error\n",
    "import numpy as np"
   ]
  },
  {
   "cell_type": "markdown",
   "source": [
    "# Read data"
   ],
   "metadata": {
    "collapsed": false
   },
   "id": "ee2b5d2e401ef2d"
  },
  {
   "cell_type": "code",
   "outputs": [],
   "source": [
    "data = {\"january\": \"data/yellow_tripdata_2023-01.parquet\", \"february\": \"data/yellow_tripdata_2023-02.parquet\"}\n",
    "jan_data = pd.read_parquet(data['january'])"
   ],
   "metadata": {
    "collapsed": false,
    "ExecuteTime": {
     "end_time": "2024-05-20T15:02:49.303188Z",
     "start_time": "2024-05-20T15:02:48.838484Z"
    }
   },
   "id": "915483de7f48d976",
   "execution_count": 83
  },
  {
   "cell_type": "code",
   "outputs": [],
   "source": [],
   "metadata": {
    "collapsed": false,
    "ExecuteTime": {
     "end_time": "2024-05-20T15:02:49.326887Z",
     "start_time": "2024-05-20T15:02:49.325562Z"
    }
   },
   "id": "d3fb7f1f89382c65",
   "execution_count": 83
  },
  {
   "cell_type": "markdown",
   "source": [
    "# Q1: Read the data for January. How many columns are there?"
   ],
   "metadata": {
    "collapsed": false
   },
   "id": "e32dc69465f85203"
  },
  {
   "cell_type": "code",
   "outputs": [
    {
     "name": "stdout",
     "output_type": "stream",
     "text": [
      "Number of columns are:  19\n"
     ]
    }
   ],
   "source": [
    "print('Number of columns are: ', len(jan_data.columns))"
   ],
   "metadata": {
    "collapsed": false,
    "ExecuteTime": {
     "end_time": "2024-05-20T15:02:50.113969Z",
     "start_time": "2024-05-20T15:02:50.111217Z"
    }
   },
   "id": "327ebb9576956ae3",
   "execution_count": 84
  },
  {
   "cell_type": "code",
   "outputs": [],
   "source": [],
   "metadata": {
    "collapsed": false,
    "ExecuteTime": {
     "end_time": "2024-05-20T15:02:50.518424Z",
     "start_time": "2024-05-20T15:02:50.516687Z"
    }
   },
   "id": "b59a8658876429c8",
   "execution_count": 84
  },
  {
   "cell_type": "markdown",
   "source": [
    "# Q2: What's the standard deviation of the trips duration in January?"
   ],
   "metadata": {
    "collapsed": false
   },
   "id": "26a5f7acade2d0b7"
  },
  {
   "cell_type": "markdown",
   "source": [
    "## preprocess data"
   ],
   "metadata": {
    "collapsed": false
   },
   "id": "34899c4afad493c1"
  },
  {
   "cell_type": "code",
   "outputs": [
    {
     "name": "stdout",
     "output_type": "stream",
     "text": [
      "There are some rows where tpep_dropoff_datetime is not after tpep_pickup_datetime.\n"
     ]
    }
   ],
   "source": [
    "# Check if all values in tpep_dropoff_datetime are greater than tpep_pickup_datetime\n",
    "all_dropoff_after_pickup = (jan_data['tpep_dropoff_datetime'] > jan_data['tpep_pickup_datetime']).all()\n",
    "\n",
    "if all_dropoff_after_pickup:\n",
    "    print(\"All tpep_dropoff_datetime values are after tpep_pickup_datetime.\")\n",
    "else:\n",
    "    print(\"There are some rows where tpep_dropoff_datetime is not after tpep_pickup_datetime.\")"
   ],
   "metadata": {
    "collapsed": false,
    "ExecuteTime": {
     "end_time": "2024-05-20T15:02:51.193586Z",
     "start_time": "2024-05-20T15:02:51.168807Z"
    }
   },
   "id": "78194b63a13f363e",
   "execution_count": 85
  },
  {
   "cell_type": "code",
   "outputs": [],
   "source": [
    "equal_rows = jan_data[jan_data['tpep_dropoff_datetime'] == jan_data['tpep_pickup_datetime']]\n",
    "invalid_rows = jan_data[jan_data['tpep_dropoff_datetime'] < jan_data['tpep_pickup_datetime']]"
   ],
   "metadata": {
    "collapsed": false,
    "ExecuteTime": {
     "end_time": "2024-05-20T15:02:51.580585Z",
     "start_time": "2024-05-20T15:02:51.497657Z"
    }
   },
   "id": "b24f2f64b15994b2",
   "execution_count": 86
  },
  {
   "cell_type": "code",
   "outputs": [
    {
     "name": "stdout",
     "output_type": "stream",
     "text": [
      "      tpep_pickup_datetime tpep_dropoff_datetime\n",
      "3291   2023-01-01 00:11:55   2023-01-01 00:11:55\n",
      "4971   2023-01-01 01:54:01   2023-01-01 01:54:01\n",
      "11648  2023-01-01 02:45:08   2023-01-01 02:45:08\n",
      "15664  2023-01-01 03:55:38   2023-01-01 03:55:38\n",
      "22644  2023-01-01 07:24:56   2023-01-01 07:24:56\n",
      "\n",
      "\n",
      "        tpep_pickup_datetime tpep_dropoff_datetime\n",
      "1839180  2023-01-20 13:35:00   2023-01-20 13:05:48\n",
      "2124414  2023-01-23 10:43:58   2023-01-23 10:29:26\n",
      "2218504  2023-01-24 11:00:00   2023-01-24 10:40:48\n"
     ]
    }
   ],
   "source": [
    "print(equal_rows[['tpep_pickup_datetime', 'tpep_dropoff_datetime']].head())\n",
    "print(\"\\n\")\n",
    "print(invalid_rows[['tpep_pickup_datetime', 'tpep_dropoff_datetime']].head())"
   ],
   "metadata": {
    "collapsed": false,
    "ExecuteTime": {
     "end_time": "2024-05-20T15:02:51.917768Z",
     "start_time": "2024-05-20T15:02:51.913590Z"
    }
   },
   "id": "19bd69f43cd7b0e9",
   "execution_count": 87
  },
  {
   "cell_type": "markdown",
   "source": [
    "## Seen problem: There are some rows where tpep_dropoff_datetime is not after tpep_pickup_datetime.\n",
    "so let's remove them from data"
   ],
   "metadata": {
    "collapsed": false
   },
   "id": "1ace7a9e64573a90"
  },
  {
   "cell_type": "code",
   "outputs": [],
   "source": [
    "valid_df = jan_data[jan_data['tpep_dropoff_datetime'] > jan_data['tpep_pickup_datetime']].copy()"
   ],
   "metadata": {
    "collapsed": false,
    "ExecuteTime": {
     "end_time": "2024-05-20T15:02:53.477518Z",
     "start_time": "2024-05-20T15:02:52.736311Z"
    }
   },
   "id": "9953d50dd09df661",
   "execution_count": 88
  },
  {
   "cell_type": "code",
   "outputs": [],
   "source": [
    "valid_df['trip_duration_minute'] = (valid_df['tpep_dropoff_datetime'] - valid_df['tpep_pickup_datetime']).dt.total_seconds() / 60"
   ],
   "metadata": {
    "collapsed": false,
    "ExecuteTime": {
     "end_time": "2024-05-20T15:02:53.530625Z",
     "start_time": "2024-05-20T15:02:53.478730Z"
    }
   },
   "id": "92ba7546d49c6182",
   "execution_count": 89
  },
  {
   "cell_type": "code",
   "outputs": [
    {
     "name": "stdout",
     "output_type": "stream",
     "text": [
      "the real standard deviation of the trips duration in January is:  42.6\n"
     ]
    }
   ],
   "source": [
    "print(\"the real standard deviation of the trips duration in January is: \", round(valid_df['trip_duration_minute'].std(), 2))"
   ],
   "metadata": {
    "collapsed": false,
    "ExecuteTime": {
     "end_time": "2024-05-20T15:02:53.547872Z",
     "start_time": "2024-05-20T15:02:53.532717Z"
    }
   },
   "id": "e404a1231d47b13a",
   "execution_count": 90
  },
  {
   "cell_type": "markdown",
   "source": [
    "# the real standard deviation of the trips duration in January is 42.6, but the answer not exists in question, so let's try ugly way"
   ],
   "metadata": {
    "collapsed": false
   },
   "id": "422ad0d0e9128d4b"
  },
  {
   "cell_type": "code",
   "outputs": [
    {
     "name": "stdout",
     "output_type": "stream",
     "text": [
      "standard deviation of the trips duration in January is:  42.59\n"
     ]
    }
   ],
   "source": [
    "jan_data['trip_duration_minute'] = (jan_data['tpep_dropoff_datetime'] - jan_data['tpep_pickup_datetime']).dt.total_seconds() / 60\n",
    "print(\"standard deviation of the trips duration in January is: \", round(jan_data['trip_duration_minute'].std(), 2))"
   ],
   "metadata": {
    "collapsed": false,
    "ExecuteTime": {
     "end_time": "2024-05-20T15:02:54.429252Z",
     "start_time": "2024-05-20T15:02:54.364212Z"
    }
   },
   "id": "ab5c411a6e629235",
   "execution_count": 91
  },
  {
   "cell_type": "code",
   "outputs": [],
   "source": [],
   "metadata": {
    "collapsed": false,
    "ExecuteTime": {
     "end_time": "2024-05-20T15:02:54.840786Z",
     "start_time": "2024-05-20T15:02:54.839116Z"
    }
   },
   "id": "ea6f5e335ccadad9",
   "execution_count": 91
  },
  {
   "cell_type": "markdown",
   "source": [
    "# Q3: What fraction of the records left after you dropped the outliers?"
   ],
   "metadata": {
    "collapsed": false
   },
   "id": "f570427ef619d16"
  },
  {
   "cell_type": "code",
   "outputs": [],
   "source": [
    "filtered_jan_data = jan_data[(jan_data['trip_duration_minute']>=1) &(jan_data['trip_duration_minute']<=60)].copy()"
   ],
   "metadata": {
    "collapsed": false,
    "ExecuteTime": {
     "end_time": "2024-05-20T15:02:56.876488Z",
     "start_time": "2024-05-20T15:02:55.619257Z"
    }
   },
   "id": "97c2c6e91585e5c",
   "execution_count": 92
  },
  {
   "cell_type": "code",
   "outputs": [
    {
     "name": "stdout",
     "output_type": "stream",
     "text": [
      "fraction of the records left after we dropped the outliers is:  98.12\n"
     ]
    }
   ],
   "source": [
    "print(\"fraction of the records left after we dropped the outliers is: \" ,round((len(filtered_jan_data)*100)/len(jan_data), 2))"
   ],
   "metadata": {
    "collapsed": false,
    "ExecuteTime": {
     "end_time": "2024-05-20T15:02:56.880945Z",
     "start_time": "2024-05-20T15:02:56.878158Z"
    }
   },
   "id": "b3cf67c6fade22ee",
   "execution_count": 93
  },
  {
   "cell_type": "markdown",
   "source": [
    "# Q4: What's the dimensionality of this matrix (number of columns)?"
   ],
   "metadata": {
    "collapsed": false
   },
   "id": "b74d40b76e0ffc57"
  },
  {
   "cell_type": "code",
   "outputs": [
    {
     "data": {
      "text/plain": "Index(['VendorID', 'tpep_pickup_datetime', 'tpep_dropoff_datetime',\n       'passenger_count', 'trip_distance', 'RatecodeID', 'store_and_fwd_flag',\n       'PULocationID', 'DOLocationID', 'payment_type', 'fare_amount', 'extra',\n       'mta_tax', 'tip_amount', 'tolls_amount', 'improvement_surcharge',\n       'total_amount', 'congestion_surcharge', 'airport_fee',\n       'trip_duration_minute'],\n      dtype='object')"
     },
     "execution_count": 94,
     "metadata": {},
     "output_type": "execute_result"
    }
   ],
   "source": [
    "filtered_jan_data.columns"
   ],
   "metadata": {
    "collapsed": false,
    "ExecuteTime": {
     "end_time": "2024-05-20T15:02:57.392313Z",
     "start_time": "2024-05-20T15:02:57.389309Z"
    }
   },
   "id": "3b626d2f72b1c02a",
   "execution_count": 94
  },
  {
   "cell_type": "code",
   "outputs": [],
   "source": [
    "categorical_columns = ['PULocationID', 'DOLocationID']\n",
    "filtered_jan_data[categorical_columns] = filtered_jan_data[categorical_columns].astype(str)"
   ],
   "metadata": {
    "collapsed": false,
    "ExecuteTime": {
     "end_time": "2024-05-20T15:02:58.802381Z",
     "start_time": "2024-05-20T15:02:58.052283Z"
    }
   },
   "id": "e9daad5cfbedea53",
   "execution_count": 95
  },
  {
   "cell_type": "code",
   "outputs": [
    {
     "name": "stdout",
     "output_type": "stream",
     "text": [
      "PULocationID    object\n",
      "DOLocationID    object\n",
      "dtype: object\n"
     ]
    }
   ],
   "source": [
    "print(filtered_jan_data[categorical_columns].dtypes)"
   ],
   "metadata": {
    "collapsed": false,
    "ExecuteTime": {
     "end_time": "2024-05-20T15:07:50.727956Z",
     "start_time": "2024-05-20T15:07:50.498802Z"
    }
   },
   "id": "37b06fe18ced01ac",
   "execution_count": 103
  },
  {
   "cell_type": "code",
   "outputs": [],
   "source": [
    "train_dict = filtered_jan_data[categorical_columns].to_dict(orient='records').copy()"
   ],
   "metadata": {
    "collapsed": false,
    "ExecuteTime": {
     "end_time": "2024-05-20T15:03:03.812447Z",
     "start_time": "2024-05-20T15:03:00.305144Z"
    }
   },
   "id": "7d54fad3aed6dd4f",
   "execution_count": 97
  },
  {
   "cell_type": "code",
   "outputs": [
    {
     "name": "stdout",
     "output_type": "stream",
     "text": [
      "the dimensionality of X_train is: 515\n"
     ]
    }
   ],
   "source": [
    "dict_vectorizer = DictVectorizer()\n",
    "X_train = dict_vectorizer.fit_transform(train_dict)\n",
    "print(f\"the dimensionality of X_train is: {X_train.shape[1]}\")"
   ],
   "metadata": {
    "collapsed": false,
    "ExecuteTime": {
     "end_time": "2024-05-20T15:03:05.850867Z",
     "start_time": "2024-05-20T15:03:03.822168Z"
    }
   },
   "id": "37fe3575e7d5f9dd",
   "execution_count": 98
  },
  {
   "cell_type": "markdown",
   "source": [
    "# Q5: What's the RMSE on train?"
   ],
   "metadata": {
    "collapsed": false
   },
   "id": "53f580480fcf1c65"
  },
  {
   "cell_type": "code",
   "outputs": [],
   "source": [
    "y_train = filtered_jan_data['trip_duration_minute'].values"
   ],
   "metadata": {
    "collapsed": false,
    "ExecuteTime": {
     "end_time": "2024-05-20T15:03:12.249347Z",
     "start_time": "2024-05-20T15:03:12.225540Z"
    }
   },
   "id": "5904ff3f5726bad5",
   "execution_count": 99
  },
  {
   "cell_type": "code",
   "outputs": [],
   "source": [
    "lr = LinearRegression()\n",
    "lr.fit(X_train, y_train)"
   ],
   "metadata": {
    "collapsed": false
   },
   "id": "52fac4f699d7a724",
   "execution_count": null
  },
  {
   "cell_type": "code",
   "outputs": [],
   "source": [
    "y_pred  = lr.predict(X_train)"
   ],
   "metadata": {
    "collapsed": false,
    "ExecuteTime": {
     "end_time": "2024-05-20T15:03:27.956481Z",
     "start_time": "2024-05-20T15:03:27.945284Z"
    }
   },
   "id": "928d2c4714c7e4a6",
   "execution_count": 101
  },
  {
   "cell_type": "code",
   "outputs": [
    {
     "name": "stdout",
     "output_type": "stream",
     "text": [
      "RMSE: 7.649261927686161\n"
     ]
    }
   ],
   "source": [
    "mse = mean_squared_error(y_train, y_pred)\n",
    "rmse = np.sqrt(mse)\n",
    "print(f\"RMSE: {rmse}\")"
   ],
   "metadata": {
    "collapsed": false,
    "ExecuteTime": {
     "end_time": "2024-05-20T15:03:27.969868Z",
     "start_time": "2024-05-20T15:03:27.957056Z"
    }
   },
   "id": "b37233048c699002",
   "execution_count": 102
  },
  {
   "cell_type": "code",
   "outputs": [],
   "source": [],
   "metadata": {
    "collapsed": false
   },
   "id": "383ea1828ef81890"
  },
  {
   "cell_type": "markdown",
   "source": [
    "# Q6: What's the RMSE on validation?"
   ],
   "metadata": {
    "collapsed": false
   },
   "id": "bb3c03970366b83f"
  },
  {
   "cell_type": "code",
   "outputs": [
    {
     "name": "stdout",
     "output_type": "stream",
     "text": [
      "RMSE: 7.778948571132272\n"
     ]
    }
   ],
   "source": [
    "# Read data\n",
    "feb_data = pd.read_parquet(data['february'])\n",
    "\n",
    "# Preprocessing\n",
    "feb_data['trip_duration_minute'] = (feb_data['tpep_dropoff_datetime'] - feb_data['tpep_pickup_datetime']).dt.total_seconds() / 60\n",
    "filtered_feb_data = feb_data[(feb_data['trip_duration_minute']>=1) &(feb_data['trip_duration_minute']<=60)].copy()\n",
    "# filtered_feb_data = feb_data.copy()\n",
    "filtered_feb_data[categorical_columns] = filtered_feb_data[categorical_columns].astype(str)\n",
    "\n",
    "# One hot encoding\n",
    "train_dict = filtered_feb_data[categorical_columns].to_dict(orient='records').copy()\n",
    "dict_vectorizer = DictVectorizer()\n",
    "X_train = dict_vectorizer.fit_transform(train_dict)\n",
    "y_train = filtered_feb_data['trip_duration_minute'].values\n",
    "\n",
    "# Train the model\n",
    "lr = LinearRegression()\n",
    "lr.fit(X_train, y_train)\n",
    "\n",
    "# Calculate RMSE\n",
    "y_pred  = lr.predict(X_train)\n",
    "mse = mean_squared_error(y_train, y_pred)\n",
    "rmse = np.sqrt(mse)\n",
    "print(f\"RMSE: {rmse}\")"
   ],
   "metadata": {
    "collapsed": false,
    "ExecuteTime": {
     "end_time": "2024-05-20T14:55:12.859268Z",
     "start_time": "2024-05-20T14:54:56.736293Z"
    }
   },
   "id": "2c6afac644aa607e",
   "execution_count": 62
  },
  {
   "cell_type": "code",
   "outputs": [],
   "source": [],
   "metadata": {
    "collapsed": false
   },
   "id": "96e556899e1d9bc4"
  }
 ],
 "metadata": {
  "kernelspec": {
   "display_name": "Python 3",
   "language": "python",
   "name": "python3"
  },
  "language_info": {
   "codemirror_mode": {
    "name": "ipython",
    "version": 2
   },
   "file_extension": ".py",
   "mimetype": "text/x-python",
   "name": "python",
   "nbconvert_exporter": "python",
   "pygments_lexer": "ipython2",
   "version": "2.7.6"
  }
 },
 "nbformat": 4,
 "nbformat_minor": 5
}
