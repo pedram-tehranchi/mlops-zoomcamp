{
 "cells": [
  {
   "cell_type": "code",
   "execution_count": 56,
   "id": "initial_id",
   "metadata": {
    "collapsed": true,
    "ExecuteTime": {
     "end_time": "2024-05-20T14:36:05.167718Z",
     "start_time": "2024-05-20T14:36:05.164645Z"
    }
   },
   "outputs": [],
   "source": [
    "import pandas as pd\n",
    "from sklearn.feature_extraction import DictVectorizer\n",
    "from sklearn.linear_model import LinearRegression\n",
    "from sklearn.metrics import mean_squared_error\n",
    "import numpy as np"
   ]
  },
  {
   "cell_type": "markdown",
   "source": [
    "# Read data"
   ],
   "metadata": {
    "collapsed": false
   },
   "id": "ee2b5d2e401ef2d"
  },
  {
   "cell_type": "code",
   "outputs": [],
   "source": [
    "data = {\"january\": \"data/yellow_tripdata_2023-01.parquet\", \"february\": \"data/yellow_tripdata_2023-02.parquet\"}\n",
    "jan_data = pd.read_parquet(data['january'])"
   ],
   "metadata": {
    "collapsed": false,
    "ExecuteTime": {
     "end_time": "2024-05-20T15:02:49.303188Z",
     "start_time": "2024-05-20T15:02:48.838484Z"
    }
   },
   "id": "915483de7f48d976",
   "execution_count": 83
  },
  {
   "cell_type": "code",
   "outputs": [],
   "source": [],
   "metadata": {
    "collapsed": false,
    "ExecuteTime": {
     "end_time": "2024-05-20T15:02:49.326887Z",
     "start_time": "2024-05-20T15:02:49.325562Z"
    }
   },
   "id": "d3fb7f1f89382c65",
   "execution_count": 83
  },
  {
   "cell_type": "markdown",
   "source": [
    "# Q1: Read the data for January. How many columns are there?"
   ],
   "metadata": {
    "collapsed": false
   },
   "id": "e32dc69465f85203"
  },
  {
   "cell_type": "code",
   "outputs": [
    {
     "name": "stdout",
     "output_type": "stream",
     "text": [
      "Number of columns are:  19\n"
     ]
    }
   ],
   "source": [
    "print('Number of columns are: ', len(jan_data.columns))"
   ],
   "metadata": {
    "collapsed": false,
    "ExecuteTime": {
     "end_time": "2024-05-20T15:02:50.113969Z",
     "start_time": "2024-05-20T15:02:50.111217Z"
    }
   },
   "id": "327ebb9576956ae3",
   "execution_count": 84
  },
  {
   "cell_type": "code",
   "outputs": [],
   "source": [],
   "metadata": {
    "collapsed": false,
    "ExecuteTime": {
     "end_time": "2024-05-20T15:02:50.518424Z",
     "start_time": "2024-05-20T15:02:50.516687Z"
    }
   },
   "id": "b59a8658876429c8",
   "execution_count": 84
  },
  {
   "cell_type": "markdown",
   "source": [
    "# Q2: What's the standard deviation of the trips duration in January?"
   ],
   "metadata": {
    "collapsed": false
   },
   "id": "26a5f7acade2d0b7"
  },
  {
   "cell_type": "markdown",
   "source": [
    "## preprocess data"
   ],
   "metadata": {
    "collapsed": false
   },
   "id": "34899c4afad493c1"
  },
  {
   "cell_type": "code",
   "outputs": [
    {
     "name": "stdout",
     "output_type": "stream",
     "text": [
      "There are some rows where tpep_dropoff_datetime is not after tpep_pickup_datetime.\n"
     ]
    }
   ],
   "source": [
    "# Check if all values in tpep_dropoff_datetime are greater than tpep_pickup_datetime\n",
    "all_dropoff_after_pickup = (jan_data['tpep_dropoff_datetime'] > jan_data['tpep_pickup_datetime']).all()\n",
    "\n",
    "if all_dropoff_after_pickup:\n",
    "    print(\"All tpep_dropoff_datetime values are after tpep_pickup_datetime.\")\n",
    "else:\n",
    "    print(\"There are some rows where tpep_dropoff_datetime is not after tpep_pickup_datetime.\")"
   ],
   "metadata": {
    "collapsed": false,
    "ExecuteTime": {
     "end_time": "2024-05-20T15:02:51.193586Z",
     "start_time": "2024-05-20T15:02:51.168807Z"
    }
   },
   "id": "78194b63a13f363e",
   "execution_count": 85
  },
  {
   "cell_type": "code",
   "outputs": [],
   "source": [
    "equal_rows = jan_data[jan_data['tpep_dropoff_datetime'] == jan_data['tpep_pickup_datetime']]\n",
    "invalid_rows = jan_data[jan_data['tpep_dropoff_datetime'] < jan_data['tpep_pickup_datetime']]"
   ],
   "metadata": {
    "collapsed": false,
    "ExecuteTime": {
     "end_time": "2024-05-20T15:02:51.580585Z",
     "start_time": "2024-05-20T15:02:51.497657Z"
    }
   },
   "id": "b24f2f64b15994b2",
   "execution_count": 86
  },
  {
   "cell_type": "code",
   "outputs": [
    {
     "name": "stdout",
     "output_type": "stream",
     "text": [
      "      tpep_pickup_datetime tpep_dropoff_datetime\n",
      "3291   2023-01-01 00:11:55   2023-01-01 00:11:55\n",
      "4971   2023-01-01 01:54:01   2023-01-01 01:54:01\n",
      "11648  2023-01-01 02:45:08   2023-01-01 02:45:08\n",
      "15664  2023-01-01 03:55:38   2023-01-01 03:55:38\n",
      "22644  2023-01-01 07:24:56   2023-01-01 07:24:56\n",
      "\n",
      "\n",
      "        tpep_pickup_datetime tpep_dropoff_datetime\n",
      "1839180  2023-01-20 13:35:00   2023-01-20 13:05:48\n",
      "2124414  2023-01-23 10:43:58   2023-01-23 10:29:26\n",
      "2218504  2023-01-24 11:00:00   2023-01-24 10:40:48\n"
     ]
    }
   ],
   "source": [
    "print(equal_rows[['tpep_pickup_datetime', 'tpep_dropoff_datetime']].head())\n",
    "print(\"\\n\")\n",
    "print(invalid_rows[['tpep_pickup_datetime', 'tpep_dropoff_datetime']].head())"
   ],
   "metadata": {
    "collapsed": false,
    "ExecuteTime": {
     "end_time": "2024-05-20T15:02:51.917768Z",
     "start_time": "2024-05-20T15:02:51.913590Z"
    }
   },
   "id": "19bd69f43cd7b0e9",
   "execution_count": 87
  },
  {
   "cell_type": "markdown",
   "source": [
    "## Seen problem: There are some rows where tpep_dropoff_datetime is not after tpep_pickup_datetime.\n",
    "so let's remove them from data"
   ],
   "metadata": {
    "collapsed": false
   },
   "id": "1ace7a9e64573a90"
  },
  {
   "cell_type": "code",
   "outputs": [],
   "source": [
    "valid_df = jan_data[jan_data['tpep_dropoff_datetime'] > jan_data['tpep_pickup_datetime']].copy()"
   ],
   "metadata": {
    "collapsed": false,
    "ExecuteTime": {
     "end_time": "2024-05-20T15:02:53.477518Z",
     "start_time": "2024-05-20T15:02:52.736311Z"
    }
   },
   "id": "9953d50dd09df661",
   "execution_count": 88
  },
  {
   "cell_type": "code",
   "outputs": [],
   "source": [
    "valid_df['trip_duration_minute'] = (valid_df['tpep_dropoff_datetime'] - valid_df['tpep_pickup_datetime']).dt.total_seconds() / 60"
   ],
   "metadata": {
    "collapsed": false,
    "ExecuteTime": {
     "end_time": "2024-05-20T15:02:53.530625Z",
     "start_time": "2024-05-20T15:02:53.478730Z"
    }
   },
   "id": "92ba7546d49c6182",
   "execution_count": 89
  },
  {
   "cell_type": "code",
   "outputs": [
    {
     "name": "stdout",
     "output_type": "stream",
     "text": [
      "the real standard deviation of the trips duration in January is:  42.6\n"
     ]
    }
   ],
   "source": [
    "print(\"the real standard deviation of the trips duration in January is: \", round(valid_df['trip_duration_minute'].std(), 2))"
   ],
   "metadata": {
    "collapsed": false,
    "ExecuteTime": {
     "end_time": "2024-05-20T15:02:53.547872Z",
     "start_time": "2024-05-20T15:02:53.532717Z"
    }
   },
   "id": "e404a1231d47b13a",
   "execution_count": 90
  },
  {
   "cell_type": "markdown",
   "source": [
    "# the real standard deviation of the trips duration in January is 42.6, but the answer not exists in question, so let's try ugly way"
   ],
   "metadata": {
    "collapsed": false
   },
   "id": "422ad0d0e9128d4b"
  },
  {
   "cell_type": "code",
   "outputs": [
    {
     "name": "stdout",
     "output_type": "stream",
     "text": [
      "standard deviation of the trips duration in January is:  42.59\n"
     ]
    }
   ],
   "source": [
    "jan_data['trip_duration_minute'] = (jan_data['tpep_dropoff_datetime'] - jan_data['tpep_pickup_datetime']).dt.total_seconds() / 60\n",
    "print(\"standard deviation of the trips duration in January is: \", round(jan_data['trip_duration_minute'].std(), 2))"
   ],
   "metadata": {
    "collapsed": false,
    "ExecuteTime": {
     "end_time": "2024-05-20T15:02:54.429252Z",
     "start_time": "2024-05-20T15:02:54.364212Z"
    }
   },
   "id": "ab5c411a6e629235",
   "execution_count": 91
  },
  {
   "cell_type": "code",
   "outputs": [],
   "source": [],
   "metadata": {
    "collapsed": false,
    "ExecuteTime": {
     "end_time": "2024-05-20T15:02:54.840786Z",
     "start_time": "2024-05-20T15:02:54.839116Z"
    }
   },
   "id": "ea6f5e335ccadad9",
   "execution_count": 91
  },
  {
   "cell_type": "markdown",
   "source": [
    "# Q3: What fraction of the records left after you dropped the outliers?"
   ],
   "metadata": {
    "collapsed": false
   },
   "id": "f570427ef619d16"
  },
  {
   "cell_type": "code",
   "outputs": [],
   "source": [
    "filtered_jan_data = jan_data[(jan_data['trip_duration_minute']>=1) &(jan_data['trip_duration_minute']<=60)].copy()"
   ],
   "metadata": {
    "collapsed": false,
    "ExecuteTime": {
     "end_time": "2024-05-20T15:02:56.876488Z",
     "start_time": "2024-05-20T15:02:55.619257Z"
    }
   },
   "id": "97c2c6e91585e5c",
   "execution_count": 92
  },
  {
   "cell_type": "code",
   "outputs": [
    {
     "name": "stdout",
     "output_type": "stream",
     "text": [
      "fraction of the records left after we dropped the outliers is:  98.12\n"
     ]
    }
   ],
   "source": [
    "print(\"fraction of the records left after we dropped the outliers is: \" ,round((len(filtered_jan_data)*100)/len(jan_data), 2))"
   ],
   "metadata": {
    "collapsed": false,
    "ExecuteTime": {
     "end_time": "2024-05-20T15:02:56.880945Z",
     "start_time": "2024-05-20T15:02:56.878158Z"
    }
   },
   "id": "b3cf67c6fade22ee",
   "execution_count": 93
  },
  {
   "cell_type": "markdown",
   "source": [
    "# Q4: What's the dimensionality of this matrix (number of columns)?"
   ],
   "metadata": {
    "collapsed": false
   },
   "id": "b74d40b76e0ffc57"
  },
  {
   "cell_type": "code",
   "outputs": [
    {
     "data": {
      "text/plain": "Index(['VendorID', 'tpep_pickup_datetime', 'tpep_dropoff_datetime',\n       'passenger_count', 'trip_distance', 'RatecodeID', 'store_and_fwd_flag',\n       'PULocationID', 'DOLocationID', 'payment_type', 'fare_amount', 'extra',\n       'mta_tax', 'tip_amount', 'tolls_amount', 'improvement_surcharge',\n       'total_amount', 'congestion_surcharge', 'airport_fee',\n       'trip_duration_minute'],\n      dtype='object')"
     },
     "execution_count": 94,
     "metadata": {},
     "output_type": "execute_result"
    }
   ],
   "source": [
    "filtered_jan_data.columns"
   ],
   "metadata": {
    "collapsed": false,
    "ExecuteTime": {
     "end_time": "2024-05-20T15:02:57.392313Z",
     "start_time": "2024-05-20T15:02:57.389309Z"
    }
   },
   "id": "3b626d2f72b1c02a",
   "execution_count": 94
  },
  {
   "cell_type": "code",
   "outputs": [],
   "source": [
    "categorical_columns = ['PULocationID', 'DOLocationID']\n",
    "filtered_jan_data[categorical_columns] = filtered_jan_data[categorical_columns].astype(str)"
   ],
   "metadata": {
    "collapsed": false,
    "ExecuteTime": {
     "end_time": "2024-05-20T15:02:58.802381Z",
     "start_time": "2024-05-20T15:02:58.052283Z"
    }
   },
   "id": "e9daad5cfbedea53",
   "execution_count": 95
  },
  {
   "cell_type": "code",
   "outputs": [
    {
     "data": {
      "text/plain": "PULocationID    object\nDOLocationID    object\ndtype: object"
     },
     "execution_count": 96,
     "metadata": {},
     "output_type": "execute_result"
    }
   ],
   "source": [
    "filtered_jan_data[categorical_columns].dtypes"
   ],
   "metadata": {
    "collapsed": false,
    "ExecuteTime": {
     "end_time": "2024-05-20T15:02:59.661802Z",
     "start_time": "2024-05-20T15:02:59.590507Z"
    }
   },
   "id": "37b06fe18ced01ac",
   "execution_count": 96
  },
  {
   "cell_type": "code",
   "outputs": [],
   "source": [
    "train_dict = filtered_jan_data[categorical_columns].to_dict(orient='records').copy()"
   ],
   "metadata": {
    "collapsed": false,
    "ExecuteTime": {
     "end_time": "2024-05-20T15:03:03.812447Z",
     "start_time": "2024-05-20T15:03:00.305144Z"
    }
   },
   "id": "7d54fad3aed6dd4f",
   "execution_count": 97
  },
  {
   "cell_type": "code",
   "outputs": [
    {
     "name": "stdout",
     "output_type": "stream",
     "text": [
      "the dimensionality of X_train is: 515\n"
     ]
    }
   ],
   "source": [
    "dict_vectorizer = DictVectorizer()\n",
    "X_train = dict_vectorizer.fit_transform(train_dict)\n",
    "print(f\"the dimensionality of X_train is: {X_train.shape[1]}\")"
   ],
   "metadata": {
    "collapsed": false,
    "ExecuteTime": {
     "end_time": "2024-05-20T15:03:05.850867Z",
     "start_time": "2024-05-20T15:03:03.822168Z"
    }
   },
   "id": "37fe3575e7d5f9dd",
   "execution_count": 98
  },
  {
   "cell_type": "markdown",
   "source": [
    "# Q5: What's the RMSE on train?"
   ],
   "metadata": {
    "collapsed": false
   },
   "id": "53f580480fcf1c65"
  },
  {
   "cell_type": "code",
   "outputs": [],
   "source": [
    "y_train = filtered_jan_data['trip_duration_minute'].values"
   ],
   "metadata": {
    "collapsed": false,
    "ExecuteTime": {
     "end_time": "2024-05-20T15:03:12.249347Z",
     "start_time": "2024-05-20T15:03:12.225540Z"
    }
   },
   "id": "5904ff3f5726bad5",
   "execution_count": 99
  },
  {
   "cell_type": "code",
   "outputs": [
    {
     "data": {
      "text/plain": "LinearRegression()",
      "text/html": "<style>#sk-container-id-4 {\n  /* Definition of color scheme common for light and dark mode */\n  --sklearn-color-text: black;\n  --sklearn-color-line: gray;\n  /* Definition of color scheme for unfitted estimators */\n  --sklearn-color-unfitted-level-0: #fff5e6;\n  --sklearn-color-unfitted-level-1: #f6e4d2;\n  --sklearn-color-unfitted-level-2: #ffe0b3;\n  --sklearn-color-unfitted-level-3: chocolate;\n  /* Definition of color scheme for fitted estimators */\n  --sklearn-color-fitted-level-0: #f0f8ff;\n  --sklearn-color-fitted-level-1: #d4ebff;\n  --sklearn-color-fitted-level-2: #b3dbfd;\n  --sklearn-color-fitted-level-3: cornflowerblue;\n\n  /* Specific color for light theme */\n  --sklearn-color-text-on-default-background: var(--sg-text-color, var(--theme-code-foreground, var(--jp-content-font-color1, black)));\n  --sklearn-color-background: var(--sg-background-color, var(--theme-background, var(--jp-layout-color0, white)));\n  --sklearn-color-border-box: var(--sg-text-color, var(--theme-code-foreground, var(--jp-content-font-color1, black)));\n  --sklearn-color-icon: #696969;\n\n  @media (prefers-color-scheme: dark) {\n    /* Redefinition of color scheme for dark theme */\n    --sklearn-color-text-on-default-background: var(--sg-text-color, var(--theme-code-foreground, var(--jp-content-font-color1, white)));\n    --sklearn-color-background: var(--sg-background-color, var(--theme-background, var(--jp-layout-color0, #111)));\n    --sklearn-color-border-box: var(--sg-text-color, var(--theme-code-foreground, var(--jp-content-font-color1, white)));\n    --sklearn-color-icon: #878787;\n  }\n}\n\n#sk-container-id-4 {\n  color: var(--sklearn-color-text);\n}\n\n#sk-container-id-4 pre {\n  padding: 0;\n}\n\n#sk-container-id-4 input.sk-hidden--visually {\n  border: 0;\n  clip: rect(1px 1px 1px 1px);\n  clip: rect(1px, 1px, 1px, 1px);\n  height: 1px;\n  margin: -1px;\n  overflow: hidden;\n  padding: 0;\n  position: absolute;\n  width: 1px;\n}\n\n#sk-container-id-4 div.sk-dashed-wrapped {\n  border: 1px dashed var(--sklearn-color-line);\n  margin: 0 0.4em 0.5em 0.4em;\n  box-sizing: border-box;\n  padding-bottom: 0.4em;\n  background-color: var(--sklearn-color-background);\n}\n\n#sk-container-id-4 div.sk-container {\n  /* jupyter's `normalize.less` sets `[hidden] { display: none; }`\n     but bootstrap.min.css set `[hidden] { display: none !important; }`\n     so we also need the `!important` here to be able to override the\n     default hidden behavior on the sphinx rendered scikit-learn.org.\n     See: https://github.com/scikit-learn/scikit-learn/issues/21755 */\n  display: inline-block !important;\n  position: relative;\n}\n\n#sk-container-id-4 div.sk-text-repr-fallback {\n  display: none;\n}\n\ndiv.sk-parallel-item,\ndiv.sk-serial,\ndiv.sk-item {\n  /* draw centered vertical line to link estimators */\n  background-image: linear-gradient(var(--sklearn-color-text-on-default-background), var(--sklearn-color-text-on-default-background));\n  background-size: 2px 100%;\n  background-repeat: no-repeat;\n  background-position: center center;\n}\n\n/* Parallel-specific style estimator block */\n\n#sk-container-id-4 div.sk-parallel-item::after {\n  content: \"\";\n  width: 100%;\n  border-bottom: 2px solid var(--sklearn-color-text-on-default-background);\n  flex-grow: 1;\n}\n\n#sk-container-id-4 div.sk-parallel {\n  display: flex;\n  align-items: stretch;\n  justify-content: center;\n  background-color: var(--sklearn-color-background);\n  position: relative;\n}\n\n#sk-container-id-4 div.sk-parallel-item {\n  display: flex;\n  flex-direction: column;\n}\n\n#sk-container-id-4 div.sk-parallel-item:first-child::after {\n  align-self: flex-end;\n  width: 50%;\n}\n\n#sk-container-id-4 div.sk-parallel-item:last-child::after {\n  align-self: flex-start;\n  width: 50%;\n}\n\n#sk-container-id-4 div.sk-parallel-item:only-child::after {\n  width: 0;\n}\n\n/* Serial-specific style estimator block */\n\n#sk-container-id-4 div.sk-serial {\n  display: flex;\n  flex-direction: column;\n  align-items: center;\n  background-color: var(--sklearn-color-background);\n  padding-right: 1em;\n  padding-left: 1em;\n}\n\n\n/* Toggleable style: style used for estimator/Pipeline/ColumnTransformer box that is\nclickable and can be expanded/collapsed.\n- Pipeline and ColumnTransformer use this feature and define the default style\n- Estimators will overwrite some part of the style using the `sk-estimator` class\n*/\n\n/* Pipeline and ColumnTransformer style (default) */\n\n#sk-container-id-4 div.sk-toggleable {\n  /* Default theme specific background. It is overwritten whether we have a\n  specific estimator or a Pipeline/ColumnTransformer */\n  background-color: var(--sklearn-color-background);\n}\n\n/* Toggleable label */\n#sk-container-id-4 label.sk-toggleable__label {\n  cursor: pointer;\n  display: block;\n  width: 100%;\n  margin-bottom: 0;\n  padding: 0.5em;\n  box-sizing: border-box;\n  text-align: center;\n}\n\n#sk-container-id-4 label.sk-toggleable__label-arrow:before {\n  /* Arrow on the left of the label */\n  content: \"▸\";\n  float: left;\n  margin-right: 0.25em;\n  color: var(--sklearn-color-icon);\n}\n\n#sk-container-id-4 label.sk-toggleable__label-arrow:hover:before {\n  color: var(--sklearn-color-text);\n}\n\n/* Toggleable content - dropdown */\n\n#sk-container-id-4 div.sk-toggleable__content {\n  max-height: 0;\n  max-width: 0;\n  overflow: hidden;\n  text-align: left;\n  /* unfitted */\n  background-color: var(--sklearn-color-unfitted-level-0);\n}\n\n#sk-container-id-4 div.sk-toggleable__content.fitted {\n  /* fitted */\n  background-color: var(--sklearn-color-fitted-level-0);\n}\n\n#sk-container-id-4 div.sk-toggleable__content pre {\n  margin: 0.2em;\n  border-radius: 0.25em;\n  color: var(--sklearn-color-text);\n  /* unfitted */\n  background-color: var(--sklearn-color-unfitted-level-0);\n}\n\n#sk-container-id-4 div.sk-toggleable__content.fitted pre {\n  /* unfitted */\n  background-color: var(--sklearn-color-fitted-level-0);\n}\n\n#sk-container-id-4 input.sk-toggleable__control:checked~div.sk-toggleable__content {\n  /* Expand drop-down */\n  max-height: 200px;\n  max-width: 100%;\n  overflow: auto;\n}\n\n#sk-container-id-4 input.sk-toggleable__control:checked~label.sk-toggleable__label-arrow:before {\n  content: \"▾\";\n}\n\n/* Pipeline/ColumnTransformer-specific style */\n\n#sk-container-id-4 div.sk-label input.sk-toggleable__control:checked~label.sk-toggleable__label {\n  color: var(--sklearn-color-text);\n  background-color: var(--sklearn-color-unfitted-level-2);\n}\n\n#sk-container-id-4 div.sk-label.fitted input.sk-toggleable__control:checked~label.sk-toggleable__label {\n  background-color: var(--sklearn-color-fitted-level-2);\n}\n\n/* Estimator-specific style */\n\n/* Colorize estimator box */\n#sk-container-id-4 div.sk-estimator input.sk-toggleable__control:checked~label.sk-toggleable__label {\n  /* unfitted */\n  background-color: var(--sklearn-color-unfitted-level-2);\n}\n\n#sk-container-id-4 div.sk-estimator.fitted input.sk-toggleable__control:checked~label.sk-toggleable__label {\n  /* fitted */\n  background-color: var(--sklearn-color-fitted-level-2);\n}\n\n#sk-container-id-4 div.sk-label label.sk-toggleable__label,\n#sk-container-id-4 div.sk-label label {\n  /* The background is the default theme color */\n  color: var(--sklearn-color-text-on-default-background);\n}\n\n/* On hover, darken the color of the background */\n#sk-container-id-4 div.sk-label:hover label.sk-toggleable__label {\n  color: var(--sklearn-color-text);\n  background-color: var(--sklearn-color-unfitted-level-2);\n}\n\n/* Label box, darken color on hover, fitted */\n#sk-container-id-4 div.sk-label.fitted:hover label.sk-toggleable__label.fitted {\n  color: var(--sklearn-color-text);\n  background-color: var(--sklearn-color-fitted-level-2);\n}\n\n/* Estimator label */\n\n#sk-container-id-4 div.sk-label label {\n  font-family: monospace;\n  font-weight: bold;\n  display: inline-block;\n  line-height: 1.2em;\n}\n\n#sk-container-id-4 div.sk-label-container {\n  text-align: center;\n}\n\n/* Estimator-specific */\n#sk-container-id-4 div.sk-estimator {\n  font-family: monospace;\n  border: 1px dotted var(--sklearn-color-border-box);\n  border-radius: 0.25em;\n  box-sizing: border-box;\n  margin-bottom: 0.5em;\n  /* unfitted */\n  background-color: var(--sklearn-color-unfitted-level-0);\n}\n\n#sk-container-id-4 div.sk-estimator.fitted {\n  /* fitted */\n  background-color: var(--sklearn-color-fitted-level-0);\n}\n\n/* on hover */\n#sk-container-id-4 div.sk-estimator:hover {\n  /* unfitted */\n  background-color: var(--sklearn-color-unfitted-level-2);\n}\n\n#sk-container-id-4 div.sk-estimator.fitted:hover {\n  /* fitted */\n  background-color: var(--sklearn-color-fitted-level-2);\n}\n\n/* Specification for estimator info (e.g. \"i\" and \"?\") */\n\n/* Common style for \"i\" and \"?\" */\n\n.sk-estimator-doc-link,\na:link.sk-estimator-doc-link,\na:visited.sk-estimator-doc-link {\n  float: right;\n  font-size: smaller;\n  line-height: 1em;\n  font-family: monospace;\n  background-color: var(--sklearn-color-background);\n  border-radius: 1em;\n  height: 1em;\n  width: 1em;\n  text-decoration: none !important;\n  margin-left: 1ex;\n  /* unfitted */\n  border: var(--sklearn-color-unfitted-level-1) 1pt solid;\n  color: var(--sklearn-color-unfitted-level-1);\n}\n\n.sk-estimator-doc-link.fitted,\na:link.sk-estimator-doc-link.fitted,\na:visited.sk-estimator-doc-link.fitted {\n  /* fitted */\n  border: var(--sklearn-color-fitted-level-1) 1pt solid;\n  color: var(--sklearn-color-fitted-level-1);\n}\n\n/* On hover */\ndiv.sk-estimator:hover .sk-estimator-doc-link:hover,\n.sk-estimator-doc-link:hover,\ndiv.sk-label-container:hover .sk-estimator-doc-link:hover,\n.sk-estimator-doc-link:hover {\n  /* unfitted */\n  background-color: var(--sklearn-color-unfitted-level-3);\n  color: var(--sklearn-color-background);\n  text-decoration: none;\n}\n\ndiv.sk-estimator.fitted:hover .sk-estimator-doc-link.fitted:hover,\n.sk-estimator-doc-link.fitted:hover,\ndiv.sk-label-container:hover .sk-estimator-doc-link.fitted:hover,\n.sk-estimator-doc-link.fitted:hover {\n  /* fitted */\n  background-color: var(--sklearn-color-fitted-level-3);\n  color: var(--sklearn-color-background);\n  text-decoration: none;\n}\n\n/* Span, style for the box shown on hovering the info icon */\n.sk-estimator-doc-link span {\n  display: none;\n  z-index: 9999;\n  position: relative;\n  font-weight: normal;\n  right: .2ex;\n  padding: .5ex;\n  margin: .5ex;\n  width: min-content;\n  min-width: 20ex;\n  max-width: 50ex;\n  color: var(--sklearn-color-text);\n  box-shadow: 2pt 2pt 4pt #999;\n  /* unfitted */\n  background: var(--sklearn-color-unfitted-level-0);\n  border: .5pt solid var(--sklearn-color-unfitted-level-3);\n}\n\n.sk-estimator-doc-link.fitted span {\n  /* fitted */\n  background: var(--sklearn-color-fitted-level-0);\n  border: var(--sklearn-color-fitted-level-3);\n}\n\n.sk-estimator-doc-link:hover span {\n  display: block;\n}\n\n/* \"?\"-specific style due to the `<a>` HTML tag */\n\n#sk-container-id-4 a.estimator_doc_link {\n  float: right;\n  font-size: 1rem;\n  line-height: 1em;\n  font-family: monospace;\n  background-color: var(--sklearn-color-background);\n  border-radius: 1rem;\n  height: 1rem;\n  width: 1rem;\n  text-decoration: none;\n  /* unfitted */\n  color: var(--sklearn-color-unfitted-level-1);\n  border: var(--sklearn-color-unfitted-level-1) 1pt solid;\n}\n\n#sk-container-id-4 a.estimator_doc_link.fitted {\n  /* fitted */\n  border: var(--sklearn-color-fitted-level-1) 1pt solid;\n  color: var(--sklearn-color-fitted-level-1);\n}\n\n/* On hover */\n#sk-container-id-4 a.estimator_doc_link:hover {\n  /* unfitted */\n  background-color: var(--sklearn-color-unfitted-level-3);\n  color: var(--sklearn-color-background);\n  text-decoration: none;\n}\n\n#sk-container-id-4 a.estimator_doc_link.fitted:hover {\n  /* fitted */\n  background-color: var(--sklearn-color-fitted-level-3);\n}\n</style><div id=\"sk-container-id-4\" class=\"sk-top-container\"><div class=\"sk-text-repr-fallback\"><pre>LinearRegression()</pre><b>In a Jupyter environment, please rerun this cell to show the HTML representation or trust the notebook. <br />On GitHub, the HTML representation is unable to render, please try loading this page with nbviewer.org.</b></div><div class=\"sk-container\" hidden><div class=\"sk-item\"><div class=\"sk-estimator fitted sk-toggleable\"><input class=\"sk-toggleable__control sk-hidden--visually\" id=\"sk-estimator-id-4\" type=\"checkbox\" checked><label for=\"sk-estimator-id-4\" class=\"sk-toggleable__label fitted sk-toggleable__label-arrow fitted\">&nbsp;&nbsp;LinearRegression<a class=\"sk-estimator-doc-link fitted\" rel=\"noreferrer\" target=\"_blank\" href=\"https://scikit-learn.org/1.4/modules/generated/sklearn.linear_model.LinearRegression.html\">?<span>Documentation for LinearRegression</span></a><span class=\"sk-estimator-doc-link fitted\">i<span>Fitted</span></span></label><div class=\"sk-toggleable__content fitted\"><pre>LinearRegression()</pre></div> </div></div></div></div>"
     },
     "execution_count": 100,
     "metadata": {},
     "output_type": "execute_result"
    }
   ],
   "source": [
    "lr = LinearRegression()\n",
    "lr.fit(X_train, y_train)"
   ],
   "metadata": {
    "collapsed": false,
    "ExecuteTime": {
     "end_time": "2024-05-20T15:03:27.943602Z",
     "start_time": "2024-05-20T15:03:15.395285Z"
    }
   },
   "id": "52fac4f699d7a724",
   "execution_count": 100
  },
  {
   "cell_type": "code",
   "outputs": [],
   "source": [
    "y_pred  = lr.predict(X_train)"
   ],
   "metadata": {
    "collapsed": false,
    "ExecuteTime": {
     "end_time": "2024-05-20T15:03:27.956481Z",
     "start_time": "2024-05-20T15:03:27.945284Z"
    }
   },
   "id": "928d2c4714c7e4a6",
   "execution_count": 101
  },
  {
   "cell_type": "code",
   "outputs": [
    {
     "name": "stdout",
     "output_type": "stream",
     "text": [
      "RMSE: 7.649261927686161\n"
     ]
    }
   ],
   "source": [
    "mse = mean_squared_error(y_train, y_pred)\n",
    "rmse = np.sqrt(mse)\n",
    "print(f\"RMSE: {rmse}\")"
   ],
   "metadata": {
    "collapsed": false,
    "ExecuteTime": {
     "end_time": "2024-05-20T15:03:27.969868Z",
     "start_time": "2024-05-20T15:03:27.957056Z"
    }
   },
   "id": "b37233048c699002",
   "execution_count": 102
  },
  {
   "cell_type": "code",
   "outputs": [],
   "source": [],
   "metadata": {
    "collapsed": false
   },
   "id": "383ea1828ef81890"
  },
  {
   "cell_type": "markdown",
   "source": [
    "# Q6: What's the RMSE on validation?"
   ],
   "metadata": {
    "collapsed": false
   },
   "id": "bb3c03970366b83f"
  },
  {
   "cell_type": "code",
   "outputs": [
    {
     "name": "stdout",
     "output_type": "stream",
     "text": [
      "RMSE: 7.778948571132272\n"
     ]
    }
   ],
   "source": [
    "# Read data\n",
    "feb_data = pd.read_parquet(data['february'])\n",
    "\n",
    "# Preprocessing\n",
    "feb_data['trip_duration_minute'] = (feb_data['tpep_dropoff_datetime'] - feb_data['tpep_pickup_datetime']).dt.total_seconds() / 60\n",
    "filtered_feb_data = feb_data[(feb_data['trip_duration_minute']>=1) &(feb_data['trip_duration_minute']<=60)].copy()\n",
    "# filtered_feb_data = feb_data.copy()\n",
    "filtered_feb_data[categorical_columns] = filtered_feb_data[categorical_columns].astype(str)\n",
    "\n",
    "# One hot encoding\n",
    "train_dict = filtered_feb_data[categorical_columns].to_dict(orient='records').copy()\n",
    "dict_vectorizer = DictVectorizer()\n",
    "X_train = dict_vectorizer.fit_transform(train_dict)\n",
    "y_train = filtered_feb_data['trip_duration_minute'].values\n",
    "\n",
    "# Train the model\n",
    "lr = LinearRegression()\n",
    "lr.fit(X_train, y_train)\n",
    "\n",
    "# Calculate RMSE\n",
    "y_pred  = lr.predict(X_train)\n",
    "mse = mean_squared_error(y_train, y_pred)\n",
    "rmse = np.sqrt(mse)\n",
    "print(f\"RMSE: {rmse}\")"
   ],
   "metadata": {
    "collapsed": false,
    "ExecuteTime": {
     "end_time": "2024-05-20T14:55:12.859268Z",
     "start_time": "2024-05-20T14:54:56.736293Z"
    }
   },
   "id": "2c6afac644aa607e",
   "execution_count": 62
  },
  {
   "cell_type": "code",
   "outputs": [],
   "source": [],
   "metadata": {
    "collapsed": false
   },
   "id": "96e556899e1d9bc4"
  }
 ],
 "metadata": {
  "kernelspec": {
   "display_name": "Python 3",
   "language": "python",
   "name": "python3"
  },
  "language_info": {
   "codemirror_mode": {
    "name": "ipython",
    "version": 2
   },
   "file_extension": ".py",
   "mimetype": "text/x-python",
   "name": "python",
   "nbconvert_exporter": "python",
   "pygments_lexer": "ipython2",
   "version": "2.7.6"
  }
 },
 "nbformat": 4,
 "nbformat_minor": 5
}
